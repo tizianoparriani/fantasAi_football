{
 "cells": [
  {
   "cell_type": "code",
   "execution_count": 105,
   "metadata": {},
   "outputs": [],
   "source": [
    "import os\n",
    "import pandas as pd\n",
    "from dynaconf import LazySettings\n",
    "from dynaconf.utils.boxing import DynaBox\n",
    "from typing import List\n"
   ]
  },
  {
   "cell_type": "code",
   "execution_count": 106,
   "metadata": {},
   "outputs": [],
   "source": [
    "config_file = \"/home/tiziano/workspaces/fantasAi_football/config/conf.yaml\"\n",
    "config_mode = 'default'"
   ]
  },
  {
   "cell_type": "code",
   "execution_count": 107,
   "metadata": {},
   "outputs": [],
   "source": [
    "params = LazySettings(settings_files=[config_file])\n",
    "params = params[config_mode]"
   ]
  },
  {
   "cell_type": "code",
   "execution_count": 108,
   "metadata": {},
   "outputs": [],
   "source": [
    "def data_ingestion_basics(params: DynaBox, table: str) -> pd.DataFrame:\n",
    "    \"\"\"Performs some basic harmonization steps on a input dataframe.\n",
    "\n",
    "    Note that after the basic harmonization the columns will have the names\n",
    "    stated in settings.COLS, and not those appearing in the input data.\n",
    "\n",
    "    Args:\n",
    "        table (pd.DataFrame): id of the table to lead, it must appear in\n",
    "            config file\n",
    "\n",
    "    Raises:\n",
    "        ValueError: If table registry dataframe keys are missing\n",
    "        KeyError: If table registry dataframe keys are duplicated\n",
    "\n",
    "    Returns:\n",
    "        pd.DataFrame: dataframe in input, harmonized\n",
    "    \"\"\"\n",
    "    # Load parameters\n",
    "    t_par = params[table]\n",
    "    t_cols_dict = t_par[\"COLS\"].to_dict()\n",
    "    keys: List[str] = [t_par[\"COLS\"][c] for c in t_par.KEY]\n",
    "    cols: List[str] = list(t_cols_dict.values())\n",
    "    dtype_map = {\n",
    "        c_name: params[\"FEATURES\"][\"DTYPES\"][c]\n",
    "        for c, c_name in t_cols_dict.items()\n",
    "    }\n",
    "    name_conversion = {\n",
    "        c_from: params[\"FEATURES\"][c] for c, c_from in t_cols_dict.items()\n",
    "    }\n",
    "    \n",
    "    path = os.path.join(\n",
    "        params[\"PATHS\"][\"ROOT_FOLDER\"], \n",
    "        params[\"PATHS\"][\"INPUT\"][\"FOLDER\"],\n",
    "         params[\"PATHS\"][\"INPUT\"][table]\n",
    "    )\n",
    "    data: pd.DataFrame = pd.read_csv(path)\n",
    "\n",
    "    # Keep only selected columns\n",
    "    data = data[cols]\n",
    "\n",
    "    # Ugly but functional call to ensure correct type conversion\n",
    "    data = data.convert_dtypes().astype(dtype_map).convert_dtypes()  # type: ignore\n",
    "\n",
    "    # Ensure that the product registry dataframe keys are valid\n",
    "    if not data[keys].notna().all(axis=1).all():\n",
    "        raise ValueError(f\"{table} dataframe keys are missing\")\n",
    "    if not data.value_counts(keys).eq(1).all():\n",
    "        raise KeyError(f\"{table} keys are duplicated\")\n",
    "\n",
    "    # Sort product product registry by DIVISION,PRODUCT and reset index\n",
    "    data = data.sort_values(keys).reset_index(drop=True)\n",
    "\n",
    "    data = data.rename(columns=name_conversion)\n",
    "\n",
    "    if table in params[\"FILTER\"]:\n",
    "        for column, values in params[\"FILTER\"].get(table).to_dict().items():\n",
    "            column_name = params[\"FEATURES\"].get(column)\n",
    "            data = data.loc[data[column_name].isin(values)]\n",
    "\n",
    "    return data"
   ]
  },
  {
   "cell_type": "code",
   "execution_count": 109,
   "metadata": {},
   "outputs": [
    {
     "ename": "ValueError",
     "evalue": "Day out of range in datetime string \"24-06-85\"",
     "output_type": "error",
     "traceback": [
      "\u001b[0;31m---------------------------------------------------------------------------\u001b[0m",
      "\u001b[0;31mValueError\u001b[0m                                Traceback (most recent call last)",
      "\u001b[1;32m/home/tiziano/workspaces/fantasAi_football/src/etl.ipynb Cell 5'\u001b[0m in \u001b[0;36m<cell line: 1>\u001b[0;34m()\u001b[0m\n\u001b[0;32m----> <a href='vscode-notebook-cell://wsl%2Bubuntu20.04lts/home/tiziano/workspaces/fantasAi_football/src/etl.ipynb#ch0000022vscode-remote?line=0'>1</a>\u001b[0m players \u001b[39m=\u001b[39m data_ingestion_basics(params, \u001b[39m\"\u001b[39;49m\u001b[39mPLAYERS\u001b[39;49m\u001b[39m\"\u001b[39;49m)\n\u001b[1;32m      <a href='vscode-notebook-cell://wsl%2Bubuntu20.04lts/home/tiziano/workspaces/fantasAi_football/src/etl.ipynb#ch0000022vscode-remote?line=1'>2</a>\u001b[0m clubs \u001b[39m=\u001b[39m data_ingestion_basics(params, \u001b[39m\"\u001b[39m\u001b[39mCLUBS\u001b[39m\u001b[39m\"\u001b[39m)\n\u001b[1;32m      <a href='vscode-notebook-cell://wsl%2Bubuntu20.04lts/home/tiziano/workspaces/fantasAi_football/src/etl.ipynb#ch0000022vscode-remote?line=2'>3</a>\u001b[0m competitions \u001b[39m=\u001b[39m data_ingestion_basics(params, \u001b[39m\"\u001b[39m\u001b[39mCOMPETITIONS\u001b[39m\u001b[39m\"\u001b[39m)\n",
      "\u001b[1;32m/home/tiziano/workspaces/fantasAi_football/src/etl.ipynb Cell 4'\u001b[0m in \u001b[0;36mdata_ingestion_basics\u001b[0;34m(params, table)\u001b[0m\n\u001b[1;32m     <a href='vscode-notebook-cell://wsl%2Bubuntu20.04lts/home/tiziano/workspaces/fantasAi_football/src/etl.ipynb#ch0000018vscode-remote?line=38'>39</a>\u001b[0m data \u001b[39m=\u001b[39m data[cols]\n\u001b[1;32m     <a href='vscode-notebook-cell://wsl%2Bubuntu20.04lts/home/tiziano/workspaces/fantasAi_football/src/etl.ipynb#ch0000018vscode-remote?line=40'>41</a>\u001b[0m \u001b[39m# Ugly but functional call to ensure correct type conversion\u001b[39;00m\n\u001b[0;32m---> <a href='vscode-notebook-cell://wsl%2Bubuntu20.04lts/home/tiziano/workspaces/fantasAi_football/src/etl.ipynb#ch0000018vscode-remote?line=41'>42</a>\u001b[0m data \u001b[39m=\u001b[39m data\u001b[39m.\u001b[39;49mconvert_dtypes()\u001b[39m.\u001b[39;49mastype(dtype_map)\u001b[39m.\u001b[39mconvert_dtypes()  \u001b[39m# type: ignore\u001b[39;00m\n\u001b[1;32m     <a href='vscode-notebook-cell://wsl%2Bubuntu20.04lts/home/tiziano/workspaces/fantasAi_football/src/etl.ipynb#ch0000018vscode-remote?line=43'>44</a>\u001b[0m \u001b[39m# Ensure that the product registry dataframe keys are valid\u001b[39;00m\n\u001b[1;32m     <a href='vscode-notebook-cell://wsl%2Bubuntu20.04lts/home/tiziano/workspaces/fantasAi_football/src/etl.ipynb#ch0000018vscode-remote?line=44'>45</a>\u001b[0m \u001b[39mif\u001b[39;00m \u001b[39mnot\u001b[39;00m data[keys]\u001b[39m.\u001b[39mnotna()\u001b[39m.\u001b[39mall(axis\u001b[39m=\u001b[39m\u001b[39m1\u001b[39m)\u001b[39m.\u001b[39mall():\n",
      "File \u001b[0;32m~/anaconda3/envs/fantasai/lib/python3.9/site-packages/pandas/core/generic.py:5898\u001b[0m, in \u001b[0;36mNDFrame.astype\u001b[0;34m(self, dtype, copy, errors)\u001b[0m\n\u001b[1;32m   <a href='file:///home/tiziano/anaconda3/envs/fantasai/lib/python3.9/site-packages/pandas/core/generic.py?line=5895'>5896</a>\u001b[0m             res_col \u001b[39m=\u001b[39m col\u001b[39m.\u001b[39mcopy() \u001b[39mif\u001b[39;00m copy \u001b[39melse\u001b[39;00m col\n\u001b[1;32m   <a href='file:///home/tiziano/anaconda3/envs/fantasai/lib/python3.9/site-packages/pandas/core/generic.py?line=5896'>5897</a>\u001b[0m         \u001b[39melse\u001b[39;00m:\n\u001b[0;32m-> <a href='file:///home/tiziano/anaconda3/envs/fantasai/lib/python3.9/site-packages/pandas/core/generic.py?line=5897'>5898</a>\u001b[0m             res_col \u001b[39m=\u001b[39m col\u001b[39m.\u001b[39;49mastype(dtype\u001b[39m=\u001b[39;49mcdt, copy\u001b[39m=\u001b[39;49mcopy, errors\u001b[39m=\u001b[39;49merrors)\n\u001b[1;32m   <a href='file:///home/tiziano/anaconda3/envs/fantasai/lib/python3.9/site-packages/pandas/core/generic.py?line=5898'>5899</a>\u001b[0m         results\u001b[39m.\u001b[39mappend(res_col)\n\u001b[1;32m   <a href='file:///home/tiziano/anaconda3/envs/fantasai/lib/python3.9/site-packages/pandas/core/generic.py?line=5900'>5901</a>\u001b[0m \u001b[39melif\u001b[39;00m is_extension_array_dtype(dtype) \u001b[39mand\u001b[39;00m \u001b[39mself\u001b[39m\u001b[39m.\u001b[39mndim \u001b[39m>\u001b[39m \u001b[39m1\u001b[39m:\n\u001b[1;32m   <a href='file:///home/tiziano/anaconda3/envs/fantasai/lib/python3.9/site-packages/pandas/core/generic.py?line=5901'>5902</a>\u001b[0m     \u001b[39m# GH 18099/22869: columnwise conversion to extension dtype\u001b[39;00m\n\u001b[1;32m   <a href='file:///home/tiziano/anaconda3/envs/fantasai/lib/python3.9/site-packages/pandas/core/generic.py?line=5902'>5903</a>\u001b[0m     \u001b[39m# GH 24704: use iloc to handle duplicate column names\u001b[39;00m\n\u001b[1;32m   <a href='file:///home/tiziano/anaconda3/envs/fantasai/lib/python3.9/site-packages/pandas/core/generic.py?line=5903'>5904</a>\u001b[0m     \u001b[39m# TODO(EA2D): special case not needed with 2D EAs\u001b[39;00m\n",
      "File \u001b[0;32m~/anaconda3/envs/fantasai/lib/python3.9/site-packages/pandas/core/generic.py:5912\u001b[0m, in \u001b[0;36mNDFrame.astype\u001b[0;34m(self, dtype, copy, errors)\u001b[0m\n\u001b[1;32m   <a href='file:///home/tiziano/anaconda3/envs/fantasai/lib/python3.9/site-packages/pandas/core/generic.py?line=5904'>5905</a>\u001b[0m     results \u001b[39m=\u001b[39m [\n\u001b[1;32m   <a href='file:///home/tiziano/anaconda3/envs/fantasai/lib/python3.9/site-packages/pandas/core/generic.py?line=5905'>5906</a>\u001b[0m         \u001b[39mself\u001b[39m\u001b[39m.\u001b[39miloc[:, i]\u001b[39m.\u001b[39mastype(dtype, copy\u001b[39m=\u001b[39mcopy)\n\u001b[1;32m   <a href='file:///home/tiziano/anaconda3/envs/fantasai/lib/python3.9/site-packages/pandas/core/generic.py?line=5906'>5907</a>\u001b[0m         \u001b[39mfor\u001b[39;00m i \u001b[39min\u001b[39;00m \u001b[39mrange\u001b[39m(\u001b[39mlen\u001b[39m(\u001b[39mself\u001b[39m\u001b[39m.\u001b[39mcolumns))\n\u001b[1;32m   <a href='file:///home/tiziano/anaconda3/envs/fantasai/lib/python3.9/site-packages/pandas/core/generic.py?line=5907'>5908</a>\u001b[0m     ]\n\u001b[1;32m   <a href='file:///home/tiziano/anaconda3/envs/fantasai/lib/python3.9/site-packages/pandas/core/generic.py?line=5909'>5910</a>\u001b[0m \u001b[39melse\u001b[39;00m:\n\u001b[1;32m   <a href='file:///home/tiziano/anaconda3/envs/fantasai/lib/python3.9/site-packages/pandas/core/generic.py?line=5910'>5911</a>\u001b[0m     \u001b[39m# else, only a single dtype is given\u001b[39;00m\n\u001b[0;32m-> <a href='file:///home/tiziano/anaconda3/envs/fantasai/lib/python3.9/site-packages/pandas/core/generic.py?line=5911'>5912</a>\u001b[0m     new_data \u001b[39m=\u001b[39m \u001b[39mself\u001b[39;49m\u001b[39m.\u001b[39;49m_mgr\u001b[39m.\u001b[39;49mastype(dtype\u001b[39m=\u001b[39;49mdtype, copy\u001b[39m=\u001b[39;49mcopy, errors\u001b[39m=\u001b[39;49merrors)\n\u001b[1;32m   <a href='file:///home/tiziano/anaconda3/envs/fantasai/lib/python3.9/site-packages/pandas/core/generic.py?line=5912'>5913</a>\u001b[0m     \u001b[39mreturn\u001b[39;00m \u001b[39mself\u001b[39m\u001b[39m.\u001b[39m_constructor(new_data)\u001b[39m.\u001b[39m__finalize__(\u001b[39mself\u001b[39m, method\u001b[39m=\u001b[39m\u001b[39m\"\u001b[39m\u001b[39mastype\u001b[39m\u001b[39m\"\u001b[39m)\n\u001b[1;32m   <a href='file:///home/tiziano/anaconda3/envs/fantasai/lib/python3.9/site-packages/pandas/core/generic.py?line=5914'>5915</a>\u001b[0m \u001b[39m# GH 33113: handle empty frame or series\u001b[39;00m\n",
      "File \u001b[0;32m~/anaconda3/envs/fantasai/lib/python3.9/site-packages/pandas/core/internals/managers.py:419\u001b[0m, in \u001b[0;36mBaseBlockManager.astype\u001b[0;34m(self, dtype, copy, errors)\u001b[0m\n\u001b[1;32m    <a href='file:///home/tiziano/anaconda3/envs/fantasai/lib/python3.9/site-packages/pandas/core/internals/managers.py?line=417'>418</a>\u001b[0m \u001b[39mdef\u001b[39;00m \u001b[39mastype\u001b[39m(\u001b[39mself\u001b[39m: T, dtype, copy: \u001b[39mbool\u001b[39m \u001b[39m=\u001b[39m \u001b[39mFalse\u001b[39;00m, errors: \u001b[39mstr\u001b[39m \u001b[39m=\u001b[39m \u001b[39m\"\u001b[39m\u001b[39mraise\u001b[39m\u001b[39m\"\u001b[39m) \u001b[39m-\u001b[39m\u001b[39m>\u001b[39m T:\n\u001b[0;32m--> <a href='file:///home/tiziano/anaconda3/envs/fantasai/lib/python3.9/site-packages/pandas/core/internals/managers.py?line=418'>419</a>\u001b[0m     \u001b[39mreturn\u001b[39;00m \u001b[39mself\u001b[39;49m\u001b[39m.\u001b[39;49mapply(\u001b[39m\"\u001b[39;49m\u001b[39mastype\u001b[39;49m\u001b[39m\"\u001b[39;49m, dtype\u001b[39m=\u001b[39;49mdtype, copy\u001b[39m=\u001b[39;49mcopy, errors\u001b[39m=\u001b[39;49merrors)\n",
      "File \u001b[0;32m~/anaconda3/envs/fantasai/lib/python3.9/site-packages/pandas/core/internals/managers.py:304\u001b[0m, in \u001b[0;36mBaseBlockManager.apply\u001b[0;34m(self, f, align_keys, ignore_failures, **kwargs)\u001b[0m\n\u001b[1;32m    <a href='file:///home/tiziano/anaconda3/envs/fantasai/lib/python3.9/site-packages/pandas/core/internals/managers.py?line=301'>302</a>\u001b[0m         applied \u001b[39m=\u001b[39m b\u001b[39m.\u001b[39mapply(f, \u001b[39m*\u001b[39m\u001b[39m*\u001b[39mkwargs)\n\u001b[1;32m    <a href='file:///home/tiziano/anaconda3/envs/fantasai/lib/python3.9/site-packages/pandas/core/internals/managers.py?line=302'>303</a>\u001b[0m     \u001b[39melse\u001b[39;00m:\n\u001b[0;32m--> <a href='file:///home/tiziano/anaconda3/envs/fantasai/lib/python3.9/site-packages/pandas/core/internals/managers.py?line=303'>304</a>\u001b[0m         applied \u001b[39m=\u001b[39m \u001b[39mgetattr\u001b[39;49m(b, f)(\u001b[39m*\u001b[39;49m\u001b[39m*\u001b[39;49mkwargs)\n\u001b[1;32m    <a href='file:///home/tiziano/anaconda3/envs/fantasai/lib/python3.9/site-packages/pandas/core/internals/managers.py?line=304'>305</a>\u001b[0m \u001b[39mexcept\u001b[39;00m (\u001b[39mTypeError\u001b[39;00m, \u001b[39mNotImplementedError\u001b[39;00m):\n\u001b[1;32m    <a href='file:///home/tiziano/anaconda3/envs/fantasai/lib/python3.9/site-packages/pandas/core/internals/managers.py?line=305'>306</a>\u001b[0m     \u001b[39mif\u001b[39;00m \u001b[39mnot\u001b[39;00m ignore_failures:\n",
      "File \u001b[0;32m~/anaconda3/envs/fantasai/lib/python3.9/site-packages/pandas/core/internals/blocks.py:580\u001b[0m, in \u001b[0;36mBlock.astype\u001b[0;34m(self, dtype, copy, errors)\u001b[0m\n\u001b[1;32m    <a href='file:///home/tiziano/anaconda3/envs/fantasai/lib/python3.9/site-packages/pandas/core/internals/blocks.py?line=561'>562</a>\u001b[0m \u001b[39m\"\"\"\u001b[39;00m\n\u001b[1;32m    <a href='file:///home/tiziano/anaconda3/envs/fantasai/lib/python3.9/site-packages/pandas/core/internals/blocks.py?line=562'>563</a>\u001b[0m \u001b[39mCoerce to the new dtype.\u001b[39;00m\n\u001b[1;32m    <a href='file:///home/tiziano/anaconda3/envs/fantasai/lib/python3.9/site-packages/pandas/core/internals/blocks.py?line=563'>564</a>\u001b[0m \n\u001b[0;32m   (...)\u001b[0m\n\u001b[1;32m    <a href='file:///home/tiziano/anaconda3/envs/fantasai/lib/python3.9/site-packages/pandas/core/internals/blocks.py?line=575'>576</a>\u001b[0m \u001b[39mBlock\u001b[39;00m\n\u001b[1;32m    <a href='file:///home/tiziano/anaconda3/envs/fantasai/lib/python3.9/site-packages/pandas/core/internals/blocks.py?line=576'>577</a>\u001b[0m \u001b[39m\"\"\"\u001b[39;00m\n\u001b[1;32m    <a href='file:///home/tiziano/anaconda3/envs/fantasai/lib/python3.9/site-packages/pandas/core/internals/blocks.py?line=577'>578</a>\u001b[0m values \u001b[39m=\u001b[39m \u001b[39mself\u001b[39m\u001b[39m.\u001b[39mvalues\n\u001b[0;32m--> <a href='file:///home/tiziano/anaconda3/envs/fantasai/lib/python3.9/site-packages/pandas/core/internals/blocks.py?line=579'>580</a>\u001b[0m new_values \u001b[39m=\u001b[39m astype_array_safe(values, dtype, copy\u001b[39m=\u001b[39;49mcopy, errors\u001b[39m=\u001b[39;49merrors)\n\u001b[1;32m    <a href='file:///home/tiziano/anaconda3/envs/fantasai/lib/python3.9/site-packages/pandas/core/internals/blocks.py?line=581'>582</a>\u001b[0m new_values \u001b[39m=\u001b[39m maybe_coerce_values(new_values)\n\u001b[1;32m    <a href='file:///home/tiziano/anaconda3/envs/fantasai/lib/python3.9/site-packages/pandas/core/internals/blocks.py?line=582'>583</a>\u001b[0m newb \u001b[39m=\u001b[39m \u001b[39mself\u001b[39m\u001b[39m.\u001b[39mmake_block(new_values)\n",
      "File \u001b[0;32m~/anaconda3/envs/fantasai/lib/python3.9/site-packages/pandas/core/dtypes/cast.py:1292\u001b[0m, in \u001b[0;36mastype_array_safe\u001b[0;34m(values, dtype, copy, errors)\u001b[0m\n\u001b[1;32m   <a href='file:///home/tiziano/anaconda3/envs/fantasai/lib/python3.9/site-packages/pandas/core/dtypes/cast.py?line=1288'>1289</a>\u001b[0m     dtype \u001b[39m=\u001b[39m dtype\u001b[39m.\u001b[39mnumpy_dtype\n\u001b[1;32m   <a href='file:///home/tiziano/anaconda3/envs/fantasai/lib/python3.9/site-packages/pandas/core/dtypes/cast.py?line=1290'>1291</a>\u001b[0m \u001b[39mtry\u001b[39;00m:\n\u001b[0;32m-> <a href='file:///home/tiziano/anaconda3/envs/fantasai/lib/python3.9/site-packages/pandas/core/dtypes/cast.py?line=1291'>1292</a>\u001b[0m     new_values \u001b[39m=\u001b[39m astype_array(values, dtype, copy\u001b[39m=\u001b[39;49mcopy)\n\u001b[1;32m   <a href='file:///home/tiziano/anaconda3/envs/fantasai/lib/python3.9/site-packages/pandas/core/dtypes/cast.py?line=1292'>1293</a>\u001b[0m \u001b[39mexcept\u001b[39;00m (\u001b[39mValueError\u001b[39;00m, \u001b[39mTypeError\u001b[39;00m):\n\u001b[1;32m   <a href='file:///home/tiziano/anaconda3/envs/fantasai/lib/python3.9/site-packages/pandas/core/dtypes/cast.py?line=1293'>1294</a>\u001b[0m     \u001b[39m# e.g. astype_nansafe can fail on object-dtype of strings\u001b[39;00m\n\u001b[1;32m   <a href='file:///home/tiziano/anaconda3/envs/fantasai/lib/python3.9/site-packages/pandas/core/dtypes/cast.py?line=1294'>1295</a>\u001b[0m     \u001b[39m#  trying to convert to float\u001b[39;00m\n\u001b[1;32m   <a href='file:///home/tiziano/anaconda3/envs/fantasai/lib/python3.9/site-packages/pandas/core/dtypes/cast.py?line=1295'>1296</a>\u001b[0m     \u001b[39mif\u001b[39;00m errors \u001b[39m==\u001b[39m \u001b[39m\"\u001b[39m\u001b[39mignore\u001b[39m\u001b[39m\"\u001b[39m:\n",
      "File \u001b[0;32m~/anaconda3/envs/fantasai/lib/python3.9/site-packages/pandas/core/dtypes/cast.py:1234\u001b[0m, in \u001b[0;36mastype_array\u001b[0;34m(values, dtype, copy)\u001b[0m\n\u001b[1;32m   <a href='file:///home/tiziano/anaconda3/envs/fantasai/lib/python3.9/site-packages/pandas/core/dtypes/cast.py?line=1229'>1230</a>\u001b[0m     \u001b[39mreturn\u001b[39;00m values\n\u001b[1;32m   <a href='file:///home/tiziano/anaconda3/envs/fantasai/lib/python3.9/site-packages/pandas/core/dtypes/cast.py?line=1231'>1232</a>\u001b[0m \u001b[39mif\u001b[39;00m \u001b[39mnot\u001b[39;00m \u001b[39misinstance\u001b[39m(values, np\u001b[39m.\u001b[39mndarray):\n\u001b[1;32m   <a href='file:///home/tiziano/anaconda3/envs/fantasai/lib/python3.9/site-packages/pandas/core/dtypes/cast.py?line=1232'>1233</a>\u001b[0m     \u001b[39m# i.e. ExtensionArray\u001b[39;00m\n\u001b[0;32m-> <a href='file:///home/tiziano/anaconda3/envs/fantasai/lib/python3.9/site-packages/pandas/core/dtypes/cast.py?line=1233'>1234</a>\u001b[0m     values \u001b[39m=\u001b[39m values\u001b[39m.\u001b[39;49mastype(dtype, copy\u001b[39m=\u001b[39;49mcopy)\n\u001b[1;32m   <a href='file:///home/tiziano/anaconda3/envs/fantasai/lib/python3.9/site-packages/pandas/core/dtypes/cast.py?line=1235'>1236</a>\u001b[0m \u001b[39melse\u001b[39;00m:\n\u001b[1;32m   <a href='file:///home/tiziano/anaconda3/envs/fantasai/lib/python3.9/site-packages/pandas/core/dtypes/cast.py?line=1236'>1237</a>\u001b[0m     values \u001b[39m=\u001b[39m astype_nansafe(values, dtype, copy\u001b[39m=\u001b[39mcopy)\n",
      "File \u001b[0;32m~/anaconda3/envs/fantasai/lib/python3.9/site-packages/pandas/core/arrays/string_.py:446\u001b[0m, in \u001b[0;36mStringArray.astype\u001b[0;34m(self, dtype, copy)\u001b[0m\n\u001b[1;32m    <a href='file:///home/tiziano/anaconda3/envs/fantasai/lib/python3.9/site-packages/pandas/core/arrays/string_.py?line=442'>443</a>\u001b[0m     values[mask] \u001b[39m=\u001b[39m np\u001b[39m.\u001b[39mnan\n\u001b[1;32m    <a href='file:///home/tiziano/anaconda3/envs/fantasai/lib/python3.9/site-packages/pandas/core/arrays/string_.py?line=443'>444</a>\u001b[0m     \u001b[39mreturn\u001b[39;00m values\n\u001b[0;32m--> <a href='file:///home/tiziano/anaconda3/envs/fantasai/lib/python3.9/site-packages/pandas/core/arrays/string_.py?line=445'>446</a>\u001b[0m \u001b[39mreturn\u001b[39;00m \u001b[39msuper\u001b[39;49m()\u001b[39m.\u001b[39;49mastype(dtype, copy)\n",
      "File \u001b[0;32m~/anaconda3/envs/fantasai/lib/python3.9/site-packages/pandas/core/arrays/base.py:584\u001b[0m, in \u001b[0;36mExtensionArray.astype\u001b[0;34m(self, dtype, copy)\u001b[0m\n\u001b[1;32m    <a href='file:///home/tiziano/anaconda3/envs/fantasai/lib/python3.9/site-packages/pandas/core/arrays/base.py?line=580'>581</a>\u001b[0m     \u001b[39mcls\u001b[39m \u001b[39m=\u001b[39m dtype\u001b[39m.\u001b[39mconstruct_array_type()\n\u001b[1;32m    <a href='file:///home/tiziano/anaconda3/envs/fantasai/lib/python3.9/site-packages/pandas/core/arrays/base.py?line=581'>582</a>\u001b[0m     \u001b[39mreturn\u001b[39;00m \u001b[39mcls\u001b[39m\u001b[39m.\u001b[39m_from_sequence(\u001b[39mself\u001b[39m, dtype\u001b[39m=\u001b[39mdtype, copy\u001b[39m=\u001b[39mcopy)\n\u001b[0;32m--> <a href='file:///home/tiziano/anaconda3/envs/fantasai/lib/python3.9/site-packages/pandas/core/arrays/base.py?line=583'>584</a>\u001b[0m \u001b[39mreturn\u001b[39;00m np\u001b[39m.\u001b[39;49marray(\u001b[39mself\u001b[39;49m, dtype\u001b[39m=\u001b[39;49mdtype, copy\u001b[39m=\u001b[39;49mcopy)\n",
      "File \u001b[0;32m~/anaconda3/envs/fantasai/lib/python3.9/site-packages/pandas/core/arrays/numpy_.py:129\u001b[0m, in \u001b[0;36mPandasArray.__array__\u001b[0;34m(self, dtype)\u001b[0m\n\u001b[1;32m    <a href='file:///home/tiziano/anaconda3/envs/fantasai/lib/python3.9/site-packages/pandas/core/arrays/numpy_.py?line=127'>128</a>\u001b[0m \u001b[39mdef\u001b[39;00m \u001b[39m__array__\u001b[39m(\u001b[39mself\u001b[39m, dtype: NpDtype \u001b[39m|\u001b[39m \u001b[39mNone\u001b[39;00m \u001b[39m=\u001b[39m \u001b[39mNone\u001b[39;00m) \u001b[39m-\u001b[39m\u001b[39m>\u001b[39m np\u001b[39m.\u001b[39mndarray:\n\u001b[0;32m--> <a href='file:///home/tiziano/anaconda3/envs/fantasai/lib/python3.9/site-packages/pandas/core/arrays/numpy_.py?line=128'>129</a>\u001b[0m     \u001b[39mreturn\u001b[39;00m np\u001b[39m.\u001b[39;49masarray(\u001b[39mself\u001b[39;49m\u001b[39m.\u001b[39;49m_ndarray, dtype\u001b[39m=\u001b[39;49mdtype)\n",
      "\u001b[0;31mValueError\u001b[0m: Day out of range in datetime string \"24-06-85\""
     ]
    }
   ],
   "source": [
    "players = data_ingestion_basics(params, \"PLAYERS\")\n",
    "clubs = data_ingestion_basics(params, \"CLUBS\")\n",
    "competitions = data_ingestion_basics(params, \"COMPETITIONS\")\n",
    "games = data_ingestion_basics(params, \"GAMES\")\n",
    "international_competitions_stats = data_ingestion_basics(params, \"INTERNATIONAL_COMPETITIONS_STATS\")\n",
    "player_valuations = data_ingestion_basics(params, \"PLAYER_VALUATIONS\")\n",
    "players = data_ingestion_basics(params, \"PLAYERS\")\n",
    "\n"
   ]
  },
  {
   "cell_type": "markdown",
   "metadata": {},
   "source": [
    "## De-normalize data\n"
   ]
  },
  {
   "cell_type": "code",
   "execution_count": 16,
   "metadata": {},
   "outputs": [],
   "source": [
    "players = players.rename(columns={'current_club_id' : 'club_id'})\n",
    "dataset = players.merge(clubs, on='club_id', how='left')"
   ]
  },
  {
   "cell_type": "code",
   "execution_count": 25,
   "metadata": {},
   "outputs": [
    {
     "data": {
      "text/plain": [
       "Index(['player_id', 'last_season', 'club_id', 'name', 'pretty_name',\n",
       "       'country_of_birth', 'country_of_citizenship', 'date_of_birth',\n",
       "       'position', 'sub_position', 'foot', 'height_in_cm',\n",
       "       'market_value_in_gbp', 'highest_market_value_in_gbp', 'url'],\n",
       "      dtype='object')"
      ]
     },
     "execution_count": 25,
     "metadata": {},
     "output_type": "execute_result"
    }
   ],
   "source": [
    "players.columns"
   ]
  },
  {
   "cell_type": "code",
   "execution_count": 27,
   "metadata": {},
   "outputs": [
    {
     "data": {
      "text/html": [
       "<div>\n",
       "<style scoped>\n",
       "    .dataframe tbody tr th:only-of-type {\n",
       "        vertical-align: middle;\n",
       "    }\n",
       "\n",
       "    .dataframe tbody tr th {\n",
       "        vertical-align: top;\n",
       "    }\n",
       "\n",
       "    .dataframe thead th {\n",
       "        text-align: right;\n",
       "    }\n",
       "</style>\n",
       "<table border=\"1\" class=\"dataframe\">\n",
       "  <thead>\n",
       "    <tr style=\"text-align: right;\">\n",
       "      <th></th>\n",
       "      <th>player_id</th>\n",
       "      <th>last_season</th>\n",
       "      <th>club_id</th>\n",
       "      <th>name</th>\n",
       "      <th>pretty_name</th>\n",
       "      <th>country_of_birth</th>\n",
       "      <th>country_of_citizenship</th>\n",
       "      <th>date_of_birth</th>\n",
       "      <th>position</th>\n",
       "      <th>sub_position</th>\n",
       "      <th>foot</th>\n",
       "      <th>height_in_cm</th>\n",
       "      <th>market_value_in_gbp</th>\n",
       "      <th>highest_market_value_in_gbp</th>\n",
       "      <th>url</th>\n",
       "    </tr>\n",
       "  </thead>\n",
       "  <tbody>\n",
       "    <tr>\n",
       "      <th>19170</th>\n",
       "      <td>342229</td>\n",
       "      <td>2019</td>\n",
       "      <td>583</td>\n",
       "      <td>kylian-mbappe</td>\n",
       "      <td>Kylian Mbappe</td>\n",
       "      <td>France</td>\n",
       "      <td>France</td>\n",
       "      <td>20-12-98</td>\n",
       "      <td>Attack</td>\n",
       "      <td>attack - Centre-Forward</td>\n",
       "      <td>Right</td>\n",
       "      <td>178</td>\n",
       "      <td>NaN</td>\n",
       "      <td>NaN</td>\n",
       "      <td>https://www.transfermarkt.co.uk/kylian-mbappe/...</td>\n",
       "    </tr>\n",
       "  </tbody>\n",
       "</table>\n",
       "</div>"
      ],
      "text/plain": [
       "       player_id  last_season  club_id           name    pretty_name  \\\n",
       "19170     342229         2019      583  kylian-mbappe  Kylian Mbappe   \n",
       "\n",
       "      country_of_birth country_of_citizenship date_of_birth position  \\\n",
       "19170           France                 France      20-12-98   Attack   \n",
       "\n",
       "                  sub_position   foot  height_in_cm  market_value_in_gbp  \\\n",
       "19170  attack - Centre-Forward  Right           178                  NaN   \n",
       "\n",
       "       highest_market_value_in_gbp  \\\n",
       "19170                          NaN   \n",
       "\n",
       "                                                     url  \n",
       "19170  https://www.transfermarkt.co.uk/kylian-mbappe/...  "
      ]
     },
     "execution_count": 27,
     "metadata": {},
     "output_type": "execute_result"
    }
   ],
   "source": [
    "players.loc[players.player_id == 342229]"
   ]
  },
  {
   "cell_type": "code",
   "execution_count": 30,
   "metadata": {},
   "outputs": [],
   "source": [
    "mbappe = players.loc[players.player_id == 342229]"
   ]
  },
  {
   "cell_type": "code",
   "execution_count": 43,
   "metadata": {},
   "outputs": [
    {
     "data": {
      "text/html": [
       "<div>\n",
       "<style scoped>\n",
       "    .dataframe tbody tr th:only-of-type {\n",
       "        vertical-align: middle;\n",
       "    }\n",
       "\n",
       "    .dataframe tbody tr th {\n",
       "        vertical-align: top;\n",
       "    }\n",
       "\n",
       "    .dataframe thead th {\n",
       "        text-align: right;\n",
       "    }\n",
       "</style>\n",
       "<table border=\"1\" class=\"dataframe\">\n",
       "  <thead>\n",
       "    <tr style=\"text-align: right;\">\n",
       "      <th></th>\n",
       "      <th>player_id</th>\n",
       "      <th>date</th>\n",
       "      <th>market_value</th>\n",
       "    </tr>\n",
       "  </thead>\n",
       "  <tbody>\n",
       "    <tr>\n",
       "      <th>0</th>\n",
       "      <td>38790</td>\n",
       "      <td>2007-04-06</td>\n",
       "      <td>338000</td>\n",
       "    </tr>\n",
       "    <tr>\n",
       "      <th>1</th>\n",
       "      <td>38790</td>\n",
       "      <td>2007-09-06</td>\n",
       "      <td>270000</td>\n",
       "    </tr>\n",
       "    <tr>\n",
       "      <th>2</th>\n",
       "      <td>38790</td>\n",
       "      <td>2010-05-02</td>\n",
       "      <td>675000</td>\n",
       "    </tr>\n",
       "    <tr>\n",
       "      <th>3</th>\n",
       "      <td>38790</td>\n",
       "      <td>2011-08-12</td>\n",
       "      <td>360000</td>\n",
       "    </tr>\n",
       "    <tr>\n",
       "      <th>4</th>\n",
       "      <td>38790</td>\n",
       "      <td>2012-03-29</td>\n",
       "      <td>675000</td>\n",
       "    </tr>\n",
       "    <tr>\n",
       "      <th>...</th>\n",
       "      <td>...</td>\n",
       "      <td>...</td>\n",
       "      <td>...</td>\n",
       "    </tr>\n",
       "    <tr>\n",
       "      <th>326816</th>\n",
       "      <td>251029</td>\n",
       "      <td>2021-03-16</td>\n",
       "      <td>1800000</td>\n",
       "    </tr>\n",
       "    <tr>\n",
       "      <th>326817</th>\n",
       "      <td>251029</td>\n",
       "      <td>2021-05-21</td>\n",
       "      <td>1350000</td>\n",
       "    </tr>\n",
       "    <tr>\n",
       "      <th>326818</th>\n",
       "      <td>251029</td>\n",
       "      <td>2021-10-12</td>\n",
       "      <td>3060000</td>\n",
       "    </tr>\n",
       "    <tr>\n",
       "      <th>326819</th>\n",
       "      <td>251029</td>\n",
       "      <td>2022-01-04</td>\n",
       "      <td>3330000</td>\n",
       "    </tr>\n",
       "    <tr>\n",
       "      <th>326820</th>\n",
       "      <td>251029</td>\n",
       "      <td>2022-03-31</td>\n",
       "      <td>4050000</td>\n",
       "    </tr>\n",
       "  </tbody>\n",
       "</table>\n",
       "<p>326821 rows × 3 columns</p>\n",
       "</div>"
      ],
      "text/plain": [
       "        player_id        date  market_value\n",
       "0           38790  2007-04-06        338000\n",
       "1           38790  2007-09-06        270000\n",
       "2           38790  2010-05-02        675000\n",
       "3           38790  2011-08-12        360000\n",
       "4           38790  2012-03-29        675000\n",
       "...           ...         ...           ...\n",
       "326816     251029  2021-03-16       1800000\n",
       "326817     251029  2021-05-21       1350000\n",
       "326818     251029  2021-10-12       3060000\n",
       "326819     251029  2022-01-04       3330000\n",
       "326820     251029  2022-03-31       4050000\n",
       "\n",
       "[326821 rows x 3 columns]"
      ]
     },
     "execution_count": 43,
     "metadata": {},
     "output_type": "execute_result"
    }
   ],
   "source": [
    "player_valuations"
   ]
  },
  {
   "cell_type": "code",
   "execution_count": null,
   "metadata": {},
   "outputs": [],
   "source": []
  }
 ],
 "metadata": {
  "interpreter": {
   "hash": "7954512d69f46d5250bf9304f32c886eecc79deaa42271adec6a58e91c41ee7f"
  },
  "kernelspec": {
   "display_name": "Python 3.9.12 ('fantasai')",
   "language": "python",
   "name": "python3"
  },
  "language_info": {
   "codemirror_mode": {
    "name": "ipython",
    "version": 3
   },
   "file_extension": ".py",
   "mimetype": "text/x-python",
   "name": "python",
   "nbconvert_exporter": "python",
   "pygments_lexer": "ipython3",
   "version": "3.9.12"
  },
  "orig_nbformat": 4
 },
 "nbformat": 4,
 "nbformat_minor": 2
}
