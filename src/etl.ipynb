{
 "cells": [
  {
   "cell_type": "code",
   "execution_count": 1,
   "metadata": {},
   "outputs": [],
   "source": [
    "import pandas as pd\n",
    "import numpy as np\n",
    "from dynaconf import LazySettings\n",
    "from dynaconf.utils.boxing import DynaBox\n",
    "from typing import List\n",
    "import os"
   ]
  },
  {
   "cell_type": "code",
   "execution_count": 2,
   "metadata": {},
   "outputs": [],
   "source": [
    "config_file = \"C://workspaces//learning//fantasAi_football//config//conf.yaml\"\n",
    "config_mode = 'default'"
   ]
  },
  {
   "cell_type": "code",
   "execution_count": 3,
   "metadata": {},
   "outputs": [],
   "source": [
    "def data_ingestion_basics(params: DynaBox, table: str, duplicate_key_err:str='raise') -> pd.DataFrame:\n",
    "    import os \n",
    "    \n",
    "    \"\"\"Performs some basic harmonization steps on a input dataframe.\n",
    "\n",
    "    Note that after the basic harmonization the columns will have the names\n",
    "    stated in settings.COLS, and not those appearing in the input data.\n",
    "\n",
    "    Args:\n",
    "        table (pd.DataFrame): id of the table to lead, it must appear in\n",
    "            config file\n",
    "        duplicate_key_err ('raise' or 'drop'): how to handle duplicated key\n",
    "        errors. If 'raise' an error will be return in case of duplicated keys,\n",
    "        if 'drop' all duplicated rows will be dropped from data.\n",
    "\n",
    "    Raises:\n",
    "        ValueError: If table registry dataframe keys are missing\n",
    "        KeyError: If table registry dataframe keys are duplicated\n",
    "\n",
    "    Returns:\n",
    "        pd.DataFrame: dataframe in input, harmonized\n",
    "    \"\"\"\n",
    "    # Load parameters\n",
    "    t_par = params[table]\n",
    "    t_cols_dict = t_par[\"COLS\"].to_dict()\n",
    "    keys: List[str] = [t_par[\"COLS\"][c] for c in t_par.KEY]\n",
    "    cols: List[str] = list(t_cols_dict.values())\n",
    "    dtype_map = {\n",
    "        c_name: params[\"FEATURES\"][\"DTYPES\"][c]\n",
    "        for c, c_name in t_cols_dict.items()\n",
    "    }\n",
    "    name_conversion = {\n",
    "        c_from: params[\"FEATURES\"][c] for c, c_from in t_cols_dict.items()\n",
    "    }\n",
    "    \n",
    "    path = os.path.join(\n",
    "        params[\"PATHS\"][\"ROOT_FOLDER\"], \n",
    "        params[\"PATHS\"][\"INPUT\"][\"FOLDER\"],\n",
    "         params[\"PATHS\"][\"INPUT\"][table]\n",
    "    )\n",
    "    data: pd.DataFrame = pd.read_csv(path)\n",
    "\n",
    "    # Keep only selected columns\n",
    "    data = data[cols]\n",
    "\n",
    "    # Ugly but functional call to ensure correct type conversion\n",
    "    data = data.convert_dtypes().astype(dtype_map, errors='ignore').convert_dtypes()  # type: ignore\n",
    "\n",
    "    # Ensure that the product registry dataframe keys are valid\n",
    "    if not data[keys].notna().all(axis=1).all():\n",
    "        raise ValueError(f\"{table} dataframe keys are missing\")\n",
    "    if not data.value_counts(keys).eq(1).all():\n",
    "        if duplicate_key_err == 'raise':\n",
    "            raise KeyError(f\"{table} keys are duplicated\")\n",
    "        else:\n",
    "            print(f\"WARN: dupliated keys will be removed from {table}\")\n",
    "            data = data.drop_duplicates(subset=keys, keep=False)\n",
    "\n",
    "    # Sort product product registry by DIVISION,PRODUCT and reset index\n",
    "    data = data.sort_values(keys).reset_index(drop=True)\n",
    "\n",
    "    data = data.rename(columns=name_conversion)\n",
    "\n",
    "    if \"FILTER\" in params:\n",
    "        if table in params[\"FILTER\"]:\n",
    "            for column, values in params[\"FILTER\"].get(table).to_dict().items():\n",
    "                column_name = params[\"FEATURES\"].get(column)\n",
    "                data = data.loc[data[column_name].isin(values)]\n",
    "\n",
    "    return data\n",
    "\n",
    "def clean_multiindex_agg(frame: pd.DataFrame) -> pd.DataFrame:\n",
    "    frame.columns = list(map('||'.join, frame.columns.values))\n",
    "    frame = frame.rename(\n",
    "        columns={\n",
    "            \"date||max\": \"_date_max\",\n",
    "            \"date||min\": \"_date_min\"}\n",
    "            )\n",
    "    frame.columns = [c.replace(\"||sum\", \"\") for c in frame.columns]\n",
    "    frame.columns = [c.replace(\"||count\", \"\") for c in frame.columns]\n",
    "    frame.columns = [c.replace(\"||\", \"\") for c in frame.columns]\n",
    "\n",
    "    return frame"
   ]
  },
  {
   "cell_type": "code",
   "execution_count": 4,
   "metadata": {},
   "outputs": [],
   "source": [
    "params = LazySettings(settings_files=[config_file])\n",
    "params = params[config_mode]"
   ]
  },
  {
   "cell_type": "code",
   "execution_count": 5,
   "metadata": {},
   "outputs": [
    {
     "name": "stdout",
     "output_type": "stream",
     "text": [
      "WARN: dupliated keys will be removed from VOTES_ITA\n"
     ]
    }
   ],
   "source": [
    "players = data_ingestion_basics(params, \"PLAYERS\")\n",
    "clubs = data_ingestion_basics(params, \"CLUBS\")\n",
    "competitions = data_ingestion_basics(params, \"COMPETITIONS\")\n",
    "games = data_ingestion_basics(params, \"GAMES\")\n",
    "games[params[\"FEATURES\"][\"DATE\"]] = pd.to_datetime(games[params[\"FEATURES\"][\"DATE\"]])\n",
    "#international_competitions_stats = data_ingestion_basics(params, \"INTERNATIONAL_COMPETITIONS_STATS\")\n",
    "player_valuations = data_ingestion_basics(params, \"PLAYER_VALUATIONS\")\n",
    "players = data_ingestion_basics(params, \"PLAYERS\")\n",
    "appearances = data_ingestion_basics(params, \"APPEARANCES\")\n",
    "votes_ita = data_ingestion_basics(params, \"VOTES_ITA\", duplicate_key_err='drop')"
   ]
  },
  {
   "cell_type": "markdown",
   "metadata": {},
   "source": [
    "## De-normalize data\n"
   ]
  },
  {
   "cell_type": "markdown",
   "metadata": {},
   "source": [
    "Find a player appearences for a given year.\n"
   ]
  },
  {
   "cell_type": "code",
   "execution_count": 6,
   "metadata": {},
   "outputs": [
    {
     "name": "stdout",
     "output_type": "stream",
     "text": [
      "Filtered out 50852/112222 player seasons with  too short permancence time.\n"
     ]
    }
   ],
   "source": [
    "# For some reason competition is specified also on appearances table, this\n",
    "# is not necessary and annoying since it generates suffixed names when merged.\n",
    "apps_sel = appearances.drop(columns=[params[\"FEATURES\"][\"COMPETITION\"]])\n",
    "\n",
    "# Get a dataframe with all details about the game in which the player appears\n",
    "app_game = apps_sel.merge(games, on=[params[\"FEATURES\"][\"GAME\"]])\n",
    "\n",
    "# Create seasonal players appearances data\n",
    "app_game = app_game.groupby(\n",
    "    [\n",
    "        params[\"FEATURES\"][\"PLAYER\"],\n",
    "        params[\"FEATURES\"][\"SEASON\"],\n",
    "        params[\"FEATURES\"][\"COMPETITION\"],\n",
    "        params[\"FEATURES\"][\"CLUB\"],\n",
    "    ],\n",
    "    as_index=False,\n",
    ").agg(\n",
    "    {\n",
    "        params[\"FEATURES\"][\"GOALS\"]: \"sum\",\n",
    "        params[\"FEATURES\"][\"ASSISTS\"]: \"sum\",\n",
    "        params[\"FEATURES\"][\"MINUTES_PLAYED\"]: \"sum\",\n",
    "        params[\"FEATURES\"][\"DATE\"]: [\"max\", \"min\"],\n",
    "    }\n",
    ")\n",
    "\n",
    "app_game = clean_multiindex_agg(app_game)\n",
    "\n",
    "# How many minutes the player played\n",
    "app_game = app_game.rename(\n",
    "    columns={params[\"FEATURES\"][\"GAME\"]: \"_minutes_played\"}\n",
    ")\n",
    "# How many weeks the player stayed in the club as difference from the\n",
    "# first appearance to the last (we can not now when the player actually\n",
    "# joined the club)\n",
    "app_game[\"_permanence_week\"] = (\n",
    "    (app_game[\"_date_max\"] - app_game[\"_date_min\"]).dt.days / 7\n",
    ") + 1\n",
    "\n",
    "app_game = app_game.drop(columns=[\"_date_max\", \"_date_min\"])\n",
    "\n",
    "# Filter out rows for played that stayed less than a certain number of weeks\n",
    "prev = len(app_game)\n",
    "app_game = app_game.loc[\n",
    "    app_game[\"_permanence_week\"] > params[\"SETTINGS\"][\"MIN_PERMANENCE_WEEKS\"]\n",
    "]\n",
    "print(\n",
    "    f\"Filtered out {prev - len(app_game)}/{prev} player seasons with \"\n",
    "    + \" too short permancence time.\"\n",
    ")\n"
   ]
  },
  {
   "cell_type": "code",
   "execution_count": 7,
   "metadata": {},
   "outputs": [],
   "source": [
    "# Add information about total minutes available in the competition\n",
    "total_minutes = games.groupby(\n",
    "    [\n",
    "        params[\"FEATURES\"][\"SEASON\"],\n",
    "        params[\"FEATURES\"][\"COMPETITION\"],\n",
    "        params[\"FEATURES\"][\"HOME_CLUB\"],\n",
    "    ],\n",
    "    as_index=False,\n",
    ").agg({\n",
    "        params[\"FEATURES\"][\"GAME\"]: \"count\",        \n",
    "        params[\"FEATURES\"][\"DATE\"]: [\"max\", \"min\"],\n",
    "    })\n",
    "\n",
    "total_minutes = clean_multiindex_agg(total_minutes)\n",
    "\n",
    "total_minutes[\"_season_weeks\"] = (total_minutes[\"_date_max\"] - total_minutes[\"_date_min\"]).dt.days/7\n",
    "\n",
    "total_minutes = total_minutes.groupby(\n",
    "    [params[\"FEATURES\"][\"SEASON\"], params[\"FEATURES\"][\"COMPETITION\"]],\n",
    "    as_index=False,\n",
    ").max()\n",
    "total_minutes[\"_minutes_available\"] = total_minutes[params[\"FEATURES\"][\"GAME\"]] * params[\"SETTINGS\"][\"MINUTES_PER_GAME\"] * 2\n",
    "\n",
    "total_minutes = total_minutes.drop(columns=[\"_date_max\", \"_date_min\"])"
   ]
  },
  {
   "cell_type": "code",
   "execution_count": 8,
   "metadata": {},
   "outputs": [],
   "source": [
    "# Attach club, minutes played and permanence in weeks to player dataframe\n",
    "players_team = players.merge(app_game, on=[params[\"FEATURES\"][\"PLAYER\"]])\n",
    "\n",
    "# Attach total minutes available in a competition\n",
    "players_onfield = players_team.merge(\n",
    "    total_minutes,\n",
    "    on=[params[\"FEATURES\"][\"COMPETITION\"], params[\"FEATURES\"][\"SEASON\"]],\n",
    ")\n",
    "\n",
    "# Calculate the \"ON_FIELD_INDEX\" feature, and clean up all the temp fields\n",
    "\n",
    "# How much of the season did the player spent in the club\n",
    "players_onfield[\"_season_played\"] = (\n",
    "    players_onfield[\"_permanence_week\"] / players_onfield[\"_season_weeks\"]\n",
    ")\n",
    "players_onfield[\"_season_played\"] = players_onfield[\"_season_played\"].clip(\n",
    "    upper=1\n",
    ")\n",
    "\n",
    "# If a players played only for one club, in one competition and one season\n",
    "# è played the entire season there\n",
    "players_onfield[\"_season_teams\"] = players_onfield.groupby(\n",
    "    [\n",
    "        params[\"FEATURES\"][\"SEASON\"],\n",
    "        params[\"FEATURES\"][\"COMPETITION\"],\n",
    "        params[\"FEATURES\"][\"PLAYER\"],\n",
    "    ]\n",
    ").transform(\"count\")[params[\"FEATURES\"][\"GAME\"]]\n",
    "players_onfield.loc[players_onfield[\"_season_teams\"] <= 1, \"_season_played\"] = 1\n",
    "\n",
    "\n",
    "players_onfield[params[\"FEATURES\"][\"ON_FIELD_INDEX\"]] = (\n",
    "    players_onfield[\"minutes_played\"] / players_onfield[\"_minutes_available\"]\n",
    ").div(players_onfield[\"_season_played\"])\n",
    "\n",
    "# When player changed team one or more times in the same season, the season\n",
    "# played measure may be imprecise, leading to a ON_FIELD_INDEX greater than\n",
    "# one\n",
    "players_onfield[params[\"FEATURES\"][\"ON_FIELD_INDEX\"]] = players_onfield[\n",
    "    params[\"FEATURES\"][\"ON_FIELD_INDEX\"]\n",
    "].clip(upper=1)\n",
    "\n",
    "players_onfield[params[\"FEATURES\"][\"ASSISTS_RATIO\"]] = (\n",
    "    players_onfield[params[\"FEATURES\"][\"ASSISTS\"]].div(\n",
    "        players_onfield[\"minutes_played\"]\n",
    "    )\n",
    "    * params[\"SETTINGS\"][\"MINUTES_PER_GAME\"]\n",
    ")\n",
    "players_onfield[params[\"FEATURES\"][\"GOALS_RATIO\"]] = (\n",
    "    players_onfield[params[\"FEATURES\"][\"GOALS\"]].div(\n",
    "        players_onfield[\"minutes_played\"]\n",
    "    )\n",
    "    * params[\"SETTINGS\"][\"MINUTES_PER_GAME\"]\n",
    ")\n",
    "players_onfield[params[\"FEATURES\"][\"FANTA_POINTS_RATIO\"]] = (\n",
    "    players_onfield[params[\"FEATURES\"][\"ASSISTS\"]]\n",
    "    * params[\"SETTINGS\"][\"ASSIST_FANTA_POINTS\"]\n",
    "    + players_onfield[params[\"FEATURES\"][\"GOALS\"]]\n",
    "    * params[\"SETTINGS\"][\"GOAL_FANTA_POINTS\"]\n",
    ").div(players_onfield[\"minutes_played\"]) * params[\"SETTINGS\"][\n",
    "    \"MINUTES_PER_GAME\"\n",
    "]\n",
    "\n",
    "for ratio_cols in [\n",
    "    params[\"FEATURES\"][\"ON_FIELD_INDEX\"],\n",
    "    params[\"FEATURES\"][\"ASSISTS_RATIO\"],\n",
    "    params[\"FEATURES\"][\"GOALS_RATIO\"],\n",
    "    params[\"FEATURES\"][\"FANTA_POINTS_RATIO\"],\n",
    "]:\n",
    "    players_onfield[ratio_cols] = players_onfield[ratio_cols].replace(np.inf, 0)\n",
    "\n",
    "\n",
    "players_onfield = players_onfield.drop(\n",
    "    columns=[\n",
    "        \"game_id\",\n",
    "        # \"_season_weeks\",\n",
    "        # \"_season_played\",\n",
    "        # \"_season_teams\",\n",
    "        # \"_permanence_week\",\n",
    "        # \"_minutes_available\",\n",
    "        \"home_club_id\",\n",
    "    ]\n",
    ")\n"
   ]
  },
  {
   "cell_type": "markdown",
   "metadata": {},
   "source": [
    "Load player value for each season\n"
   ]
  },
  {
   "cell_type": "code",
   "execution_count": 9,
   "metadata": {},
   "outputs": [],
   "source": [
    "# Define a start date for a season (player value will be read from this)\n",
    "players_onfield[\"year\"] = players_onfield[params[\"FEATURES\"][\"SEASON\"]]\n",
    "players_onfield[\"month\"] = 9\n",
    "players_onfield[\"day\"] = 1\n",
    "players_onfield[\"_season_starts\"] = pd.to_datetime(players_onfield[[\"year\", \"month\", \"day\"]])\n",
    "players_onfield = players_onfield.drop(columns=[\"year\", \"month\", \"day\"])"
   ]
  },
  {
   "cell_type": "code",
   "execution_count": 10,
   "metadata": {},
   "outputs": [
    {
     "name": "stdout",
     "output_type": "stream",
     "text": [
      "1473/61370 players/seasons has been lost when trying to calculate the value.\n"
     ]
    }
   ],
   "source": [
    "# Load player valuation closest to the start of the season\n",
    "players_vals = players_onfield.merge(player_valuations, on=[params[\"FEATURES\"][\"PLAYER\"]])\n",
    "players_vals[\"_date_diff\"] = (players_vals[params[\"FEATURES\"][\"DATE\"]] - players_vals[\"_season_starts\"]).dt.days\n",
    "players_vals = players_vals.loc[players_vals[\"_date_diff\"] < 0]\n",
    "\n",
    "pv_key = [params[\"FEATURES\"][\"PLAYER\"], params[\"FEATURES\"][\"SEASON\"]]\n",
    "players_vals = players_vals[players_vals.groupby(pv_key)[\"_date_diff\"].transform(max) == players_vals[\"_date_diff\"]]\n",
    "players_lost = len(players_team) - len(players_vals)\n",
    "players_vals = players_vals.drop(columns=[\"_date_diff\", \"_season_starts\", params[\"FEATURES\"][\"DATE\"]])\n",
    "print(f\"{players_lost}/{len(players_team)} players/seasons has been lost when trying to calculate the value.\")"
   ]
  },
  {
   "cell_type": "code",
   "execution_count": 11,
   "metadata": {},
   "outputs": [],
   "source": [
    "players_vals = players_vals.sort_values(by=pv_key)\n",
    "players_vals[params[\"FEATURES\"][\"VALUE_DELTA\"]] = players_vals[params[\"FEATURES\"][\"MARKET_VALUE\"]].diff()\n",
    "players_vals[params[\"FEATURES\"][\"VALUE_DELTA\"]] = players_vals[params[\"FEATURES\"][\"VALUE_DELTA\"]]/players_vals[params[\"FEATURES\"][\"MARKET_VALUE\"]]\n",
    "\n",
    "# Calculate club value\n",
    "players_vals[\"_club_value\"] = players_vals.groupby(\n",
    "    [params[\"FEATURES\"][\"CLUB\"], params[\"FEATURES\"][\"SEASON\"]]\n",
    ")[params[\"FEATURES\"][\"MARKET_VALUE\"]].transform(\"sum\")\n",
    "\n",
    "# Express club value as ration from media club value of same competition\n",
    "players_vals[\"_median_club_value\"] = players_vals.groupby(\n",
    "    [params[\"FEATURES\"][\"COMPETITION\"], params[\"FEATURES\"][\"SEASON\"]]\n",
    ")[\"_club_value\"].transform(\"median\")\n",
    "players_vals[params[\"FEATURES\"][\"CLUB_VALUE_RATIO\"]] = (\n",
    "    players_vals[\"_club_value\"] / players_vals[\"_median_club_value\"]\n",
    ")\n",
    "\n",
    "# Express players value as ratio from median player value of same competition\n",
    "players_vals[\"_player_median_value\"] = players_vals.groupby(\n",
    "    [params[\"FEATURES\"][\"COMPETITION\"], params[\"FEATURES\"][\"SEASON\"]]\n",
    ")[params[\"FEATURES\"][\"MARKET_VALUE\"]].transform(\"median\")\n",
    "players_vals[params[\"FEATURES\"][\"MARKET_VALUE_RATIO\"]] = (\n",
    "    players_vals[params[\"FEATURES\"][\"MARKET_VALUE\"]]\n",
    "    / players_vals[\"_player_median_value\"]\n",
    ")\n",
    "\n",
    "players_vals = players_vals.drop(\n",
    "    columns=[\n",
    "    '_club_value', \n",
    "    '_median_club_value',\n",
    "    \"_player_median_value\",\n",
    "    \"_median_club_value\",\n",
    "    \"_player_median_value\"\n",
    "    ]\n",
    "    )"
   ]
  },
  {
   "cell_type": "markdown",
   "metadata": {},
   "source": [
    "Add Club name"
   ]
  },
  {
   "cell_type": "code",
   "execution_count": 12,
   "metadata": {},
   "outputs": [],
   "source": [
    "clubs_sel = clubs[[params[\"FEATURES\"][\"CLUB\"], params[\"FEATURES\"][\"CLUB_PRETTY_NAME\"]]]\n",
    "tm_dataset = players_vals.merge(clubs_sel, on=[params[\"FEATURES\"][\"CLUB\"]])"
   ]
  },
  {
   "cell_type": "markdown",
   "metadata": {},
   "source": [
    "Get dummy variables for preferred foot and side"
   ]
  },
  {
   "cell_type": "code",
   "execution_count": 21,
   "metadata": {},
   "outputs": [],
   "source": [
    "# Get dummy foot columns\n",
    "foot_feature = params[\"FEATURES\"][\"FOOT\"]\n",
    "for lit_pos, tuple_pos in params[\"SETTINGS\"][\"POSITION_INDEXING\"].items():\n",
    "    position = tm_dataset[params[\"FEATURES\"][\"SUB_POSITION\"]]\n",
    "    tm_dataset.loc[position == lit_pos, params[\"FEATURES\"][\"POSITION_INDEX\"]] = tuple_pos[0]\n",
    "    tm_dataset.loc[position == lit_pos, params[\"FEATURES\"][\"SIDE_INDEX\"]] = tuple_pos[1]\n",
    "\n",
    "one_hot = pd.get_dummies(tm_dataset[params[\"FEATURES\"][\"FOOT\"]], prefix=foot_feature)\n",
    "tm_dataset_ix = tm_dataset.join(one_hot)\n",
    "# NA is like both\n",
    "tm_dataset_ix[f\"{foot_feature}_Both\"] = tm_dataset_ix[f\"{foot_feature}_Both\"] + tm_dataset_ix[f\"{foot_feature}_<NA>\"]\n",
    "tm_dataset_ix = tm_dataset_ix.drop(columns=[f\"{foot_feature}_<NA>\"])\n",
    "\n",
    "# Get dummy side columns\n",
    "one_hot = pd.get_dummies(tm_dataset_ix[params[\"FEATURES\"][\"SIDE_INDEX\"]].astype(int), prefix=\"side\")\n",
    "tm_dataset_ix = tm_dataset_ix.join(one_hot)"
   ]
  },
  {
   "cell_type": "code",
   "execution_count": 22,
   "metadata": {},
   "outputs": [],
   "source": [
    "# Do some harmonization and save votes ita\n",
    "votes_ita[params[\"FEATURES\"][\"SEASON\"]] = votes_ita[params[\"FEATURES\"][\"SEASON\"]] + 2000\n",
    "#votes_ita[params[\"FEATURES\"][\"TEAM\"]].str.replace(params[\"VOTES_ITA\"][\"TEAM_TRANSLATOR\"])\n",
    "path = os.path.join(\n",
    "    params[\"PATHS\"][\"ROOT_FOLDER\"],\n",
    "    f\"{params['PATHS']['STAGES']['VOTES_ITA']}.pkl\"\n",
    "    )\n",
    "votes_ita.to_pickle(path)"
   ]
  },
  {
   "cell_type": "code",
   "execution_count": 23,
   "metadata": {},
   "outputs": [
    {
     "data": {
      "text/plain": [
       "player_id                                      10\n",
       "name                               miroslav-klose\n",
       "pretty_name                        Miroslav Klose\n",
       "country_of_citizenship                    Germany\n",
       "date_of_birth                            09-06-78\n",
       "position                                   Attack\n",
       "sub_position              attack - Centre-Forward\n",
       "foot                                        Right\n",
       "height_in_cm                                  184\n",
       "season                                       2014\n",
       "competition_id                                CIT\n",
       "club_id                                       398\n",
       "goals                                           3\n",
       "assists                                         2\n",
       "minutes_played                                454\n",
       "_permanence_week                        39.428571\n",
       "_season_weeks                           38.428571\n",
       "_minutes_available                            720\n",
       "_season_played                                1.0\n",
       "_season_teams                                   1\n",
       "on_field_index                           0.630556\n",
       "assist_ratio                             0.396476\n",
       "goals_ratio                              0.594714\n",
       "fanta_points_ratio                       2.180617\n",
       "market_value                               900000\n",
       "market_value_delta                           <NA>\n",
       "club_value_ratio                         2.056444\n",
       "market_value_ratio                       0.333333\n",
       "club_pretty_name                        Lazio Rom\n",
       "position_index                                8.0\n",
       "side_index                                    0.0\n",
       "foot_Both                                       0\n",
       "foot_Left                                       0\n",
       "foot_Right                                      1\n",
       "side_0                                          1\n",
       "side_1                                          0\n",
       "side_2                                          0\n",
       "Name: 0, dtype: object"
      ]
     },
     "execution_count": 23,
     "metadata": {},
     "output_type": "execute_result"
    }
   ],
   "source": [
    "tm_dataset_ix.iloc[0]"
   ]
  },
  {
   "cell_type": "code",
   "execution_count": 24,
   "metadata": {},
   "outputs": [],
   "source": [
    "path = os.path.join(\n",
    "    params[\"PATHS\"][\"ROOT_FOLDER\"],\n",
    "    f\"{params['PATHS']['STAGES']['TM_DATASET']}.pkl\"\n",
    "    )\n",
    "tm_dataset_ix.to_pickle(path)"
   ]
  }
 ],
 "metadata": {
  "interpreter": {
   "hash": "62c5e6bfcc79c8c0fc8638b6fb36f5e52cb470225ed8321f2dc6f069261d6989"
  },
  "kernelspec": {
   "display_name": "Python 3.9.12 ('fantasai')",
   "language": "python",
   "name": "python3"
  },
  "language_info": {
   "codemirror_mode": {
    "name": "ipython",
    "version": 3
   },
   "file_extension": ".py",
   "mimetype": "text/x-python",
   "name": "python",
   "nbconvert_exporter": "python",
   "pygments_lexer": "ipython3",
   "version": "3.9.12"
  },
  "orig_nbformat": 4
 },
 "nbformat": 4,
 "nbformat_minor": 2
}
