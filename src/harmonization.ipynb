{
 "cells": [
  {
   "cell_type": "code",
   "execution_count": 45,
   "metadata": {},
   "outputs": [],
   "source": [
    "# See: https://github.com/maladeep/Name-Matching-In-Python/blob/master/Surprisingly%20Effective%20Way%20To%20Name%20Matching%20In%20Python.ipynb\n"
   ]
  },
  {
   "cell_type": "code",
   "execution_count": 17,
   "metadata": {},
   "outputs": [],
   "source": [
    "import pandas as pd\n",
    "import re\n",
    "from unidecode import unidecode\n",
    "from sklearn.feature_extraction.text import TfidfVectorizer\n",
    "from sklearn.metrics.pairwise import linear_kernel\n",
    "import numpy as np\n",
    "from dynaconf import LazySettings\n",
    "from dynaconf.utils.boxing import DynaBox\n",
    "from scipy.sparse import csr_matrix\n",
    "from typing import List\n",
    "import sparse_dot_topn.sparse_dot_topn as ct  # Cosine Similarity\n",
    "import os\n",
    "\n",
    "# pd.set_option('display.max_colwidth', -1)\n"
   ]
  },
  {
   "cell_type": "code",
   "execution_count": 18,
   "metadata": {},
   "outputs": [],
   "source": [
    "config_file = \"/home/tiziano/workspaces/fantasAi_football/config/conf.yaml\"\n",
    "config_mode = \"default\"\n"
   ]
  },
  {
   "cell_type": "code",
   "execution_count": 19,
   "metadata": {},
   "outputs": [],
   "source": [
    "params = LazySettings(settings_files=[config_file])\n",
    "params = params[config_mode]\n"
   ]
  },
  {
   "cell_type": "code",
   "execution_count": 20,
   "metadata": {},
   "outputs": [],
   "source": [
    "tm_path = os.path.join(\n",
    "    params[\"PATHS\"][\"ROOT_FOLDER\"],\n",
    "    f\"{params['PATHS']['STAGES']['TM_DATASET']}.pkl\",\n",
    ")\n",
    "tm_dataset = pd.read_pickle(tm_path)\n",
    "\n",
    "\n",
    "votes_ita_path = os.path.join(\n",
    "    params[\"PATHS\"][\"ROOT_FOLDER\"],\n",
    "    f\"{params['PATHS']['STAGES']['VOTES_ITA']}.pkl\",\n",
    ")\n",
    "votes_ita = pd.read_pickle(votes_ita_path)\n"
   ]
  },
  {
   "cell_type": "code",
   "execution_count": 21,
   "metadata": {},
   "outputs": [],
   "source": [
    "def ngrams(string, n=3):\n",
    "    string = re.sub(r\"[,-./]|\\sBD\", r\"\", string)\n",
    "    ngrams = zip(*[string[i:] for i in range(n)])\n",
    "    return [\"\".join(ngram) for ngram in ngrams]\n"
   ]
  },
  {
   "cell_type": "code",
   "execution_count": 61,
   "metadata": {},
   "outputs": [],
   "source": [
    "votes_players = votes_ita[\n",
    "    [\n",
    "        params[\"FEATURES\"][\"PIANETAFANTA_NAME\"],\n",
    "        params[\"FEATURES\"][\"PIANETAFANTA_TEAM\"],\n",
    "    ]\n",
    "].copy()\n",
    "votes_players[\"_name_and_club\"] = (\n",
    "    votes_players[params[\"FEATURES\"][\"PIANETAFANTA_NAME\"]]\n",
    "    + \" \"\n",
    "    + votes_players[params[\"FEATURES\"][\"PIANETAFANTA_TEAM\"]]\n",
    ")\n",
    "votes_players = votes_players.drop_duplicates(\n",
    "    subset=[params[\"FEATURES\"][\"PIANETAFANTA_NAME\"]]\n",
    ").reset_index(drop=False)\n"
   ]
  },
  {
   "cell_type": "code",
   "execution_count": 62,
   "metadata": {},
   "outputs": [],
   "source": [
    "tm_players = tm_dataset.loc[\n",
    "    tm_dataset[params[\"FEATURES\"][\"COMPETITION\"]]\n",
    "    == params[\"SETTINGS\"][\"ITALIAN_FANTA_COMPETITION\"]\n",
    "]\n",
    "tm_players = tm_players[\n",
    "    [\n",
    "        params[\"FEATURES\"][\"PLAYER\"],\n",
    "        params[\"FEATURES\"][\"PRETTY_NAME\"],\n",
    "        params[\"FEATURES\"][\"CLUB_PRETTY_NAME\"],\n",
    "    ]\n",
    "].copy()\n",
    "tm_players[\"_name_and_club\"] = (\n",
    "    tm_players[params[\"FEATURES\"][\"PRETTY_NAME\"]]\n",
    "    + \" \"\n",
    "    + tm_players[params[\"FEATURES\"][\"CLUB_PRETTY_NAME\"]]\n",
    ")\n",
    "tm_players = tm_players.drop_duplicates(\n",
    "    subset=[params[\"FEATURES\"][\"PRETTY_NAME\"]]\n",
    ").reset_index(drop=False)\n"
   ]
  },
  {
   "cell_type": "code",
   "execution_count": 74,
   "metadata": {},
   "outputs": [],
   "source": [
    "tm_names = tm_players[params[\"FEATURES\"][\"PRETTY_NAME\"]]\n",
    "tm_names = tm_names.str.lower()\n",
    "votes_names = votes_players[params[\"FEATURES\"][\"PIANETAFANTA_NAME\"]]\n",
    "votes_names = tm_names.str.lower()\n",
    "\n",
    "names = pd.concat([tm_names, votes_names], ignore_index=True)\n",
    "names = names.apply(unidecode)\n"
   ]
  },
  {
   "cell_type": "code",
   "execution_count": 75,
   "metadata": {},
   "outputs": [],
   "source": [
    "# After having each words split (token or  lemmas (n-gram generated items) ) into a vector and\n",
    "# Scikit-learn’s  Tfidfvectorizer aim to do the same thing, which is to convert a collection of raw documents to a matrix of TF-IDF features.\n",
    "# Generate the matrix of TF-IDF (Term Frequency-Inverse Document frequency)values for each\n",
    "# vectorizer = TfidfVectorizer(min_df=1, analyzer=ngrams)\n",
    "vectorizer = TfidfVectorizer(min_df=1, analyzer=\"word\")\n",
    "vectorizer = vectorizer.fit(names)\n",
    "\n",
    "tm_names_t = vectorizer.transform(tm_names)\n",
    "votes_names_t = vectorizer.transform(votes_names)\n",
    "test_names_t = vectorizer.transform([\"ronaldo\", \"mancini\"])\n"
   ]
  },
  {
   "cell_type": "code",
   "execution_count": 76,
   "metadata": {},
   "outputs": [],
   "source": [
    "cosine_similarities = linear_kernel(tm_names_t, votes_names_t)\n"
   ]
  },
  {
   "cell_type": "code",
   "execution_count": 77,
   "metadata": {},
   "outputs": [
    {
     "data": {
      "text/plain": [
       "(1485, 1485)"
      ]
     },
     "execution_count": 77,
     "metadata": {},
     "output_type": "execute_result"
    }
   ],
   "source": [
    "cosine_similarities.shape\n"
   ]
  },
  {
   "cell_type": "code",
   "execution_count": 78,
   "metadata": {},
   "outputs": [],
   "source": [
    "# Find the top 5 related documents\n",
    "related_docs_indices = cosine_similarities.argsort()[1, -5:-1]\n"
   ]
  },
  {
   "cell_type": "code",
   "execution_count": 79,
   "metadata": {},
   "outputs": [
    {
     "data": {
      "text/plain": [
       "array([1276,  184,   36,   76])"
      ]
     },
     "execution_count": 79,
     "metadata": {},
     "output_type": "execute_result"
    }
   ],
   "source": [
    "related_docs_indices.shape"
   ]
  },
  {
   "cell_type": "code",
   "execution_count": 82,
   "metadata": {},
   "outputs": [
    {
     "data": {
      "text/plain": [
       "1276      Luis Binks\n",
       "184      Luis Muriel\n",
       "36      Luis Alberto\n",
       "76             Pedro\n",
       "Name: pretty_name, dtype: string"
      ]
     },
     "execution_count": 82,
     "metadata": {},
     "output_type": "execute_result"
    }
   ],
   "source": [
    "tm_players.loc[related_docs_indices[:]]['pretty_name']"
   ]
  }
 ],
 "metadata": {
  "interpreter": {
   "hash": "7954512d69f46d5250bf9304f32c886eecc79deaa42271adec6a58e91c41ee7f"
  },
  "kernelspec": {
   "display_name": "Python 3.9.12 ('fantasai')",
   "language": "python",
   "name": "python3"
  },
  "language_info": {
   "codemirror_mode": {
    "name": "ipython",
    "version": 3
   },
   "file_extension": ".py",
   "mimetype": "text/x-python",
   "name": "python",
   "nbconvert_exporter": "python",
   "pygments_lexer": "ipython3",
   "version": "3.9.12"
  },
  "orig_nbformat": 4
 },
 "nbformat": 4,
 "nbformat_minor": 2
}
