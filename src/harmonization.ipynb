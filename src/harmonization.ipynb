{
 "cells": [
  {
   "cell_type": "code",
   "execution_count": null,
   "metadata": {},
   "outputs": [],
   "source": [
    "# See: https://github.com/maladeep/Name-Matching-In-Python/blob/master/Surprisingly%20Effective%20Way%20To%20Name%20Matching%20In%20Python.ipynb"
   ]
  },
  {
   "cell_type": "code",
   "execution_count": 27,
   "metadata": {},
   "outputs": [],
   "source": [
    "import pandas as pd \n",
    "import re\n",
    "from sklearn.feature_extraction.text import TfidfVectorizer\n",
    "from sklearn.metrics.pairwise import linear_kernel\n",
    "import numpy as np\n",
    "from dynaconf import LazySettings\n",
    "from dynaconf.utils.boxing import DynaBox\n",
    "from scipy.sparse import csr_matrix\n",
    "from typing import List\n",
    "import sparse_dot_topn.sparse_dot_topn as ct  #Cosine Similarity\n",
    "import time\n",
    "#pd.set_option('display.max_colwidth', -1)"
   ]
  },
  {
   "cell_type": "code",
   "execution_count": 2,
   "metadata": {},
   "outputs": [],
   "source": [
    "config_file = \"/home/tiziano/workspaces/fantasAi_football/config/conf.yaml\"\n",
    "config_mode = 'default'"
   ]
  },
  {
   "cell_type": "code",
   "execution_count": 3,
   "metadata": {},
   "outputs": [],
   "source": [
    "def data_ingestion_basics(params: DynaBox, table: str, duplicate_key_err:str='raise') -> pd.DataFrame:\n",
    "    \"\"\"Performs some basic harmonization steps on a input dataframe.\n",
    "\n",
    "    Note that after the basic harmonization the columns will have the names\n",
    "    stated in settings.COLS, and not those appearing in the input data.\n",
    "\n",
    "    Args:\n",
    "        table (pd.DataFrame): id of the table to lead, it must appear in\n",
    "            config file\n",
    "        duplicate_key_err ('raise' or 'drop'): how to handle duplicated key\n",
    "        errors. If 'raise' an error will be return in case of duplicated keys,\n",
    "        if 'drop' all duplicated rows will be dropped from data.\n",
    "\n",
    "    Raises:\n",
    "        ValueError: If table registry dataframe keys are missing\n",
    "        KeyError: If table registry dataframe keys are duplicated\n",
    "\n",
    "    Returns:\n",
    "        pd.DataFrame: dataframe in input, harmonized\n",
    "    \"\"\"\n",
    "    # Load parameters\n",
    "    t_par = params[table]\n",
    "    t_cols_dict = t_par[\"COLS\"].to_dict()\n",
    "    keys: List[str] = [t_par[\"COLS\"][c] for c in t_par.KEY]\n",
    "    cols: List[str] = list(t_cols_dict.values())\n",
    "    dtype_map = {\n",
    "        c_name: params[\"FEATURES\"][\"DTYPES\"][c]\n",
    "        for c, c_name in t_cols_dict.items()\n",
    "    }\n",
    "    name_conversion = {\n",
    "        c_from: params[\"FEATURES\"][c] for c, c_from in t_cols_dict.items()\n",
    "    }\n",
    "    \n",
    "    path = os.path.join(\n",
    "        params[\"PATHS\"][\"ROOT_FOLDER\"], \n",
    "        params[\"PATHS\"][\"INPUT\"][\"FOLDER\"],\n",
    "         params[\"PATHS\"][\"INPUT\"][table]\n",
    "    )\n",
    "    data: pd.DataFrame = pd.read_csv(path)\n",
    "\n",
    "    # Keep only selected columns\n",
    "    data = data[cols]\n",
    "\n",
    "    # Ugly but functional call to ensure correct type conversion\n",
    "    data = data.convert_dtypes().astype(dtype_map, errors='ignore').convert_dtypes()  # type: ignore\n",
    "\n",
    "    # Ensure that the product registry dataframe keys are valid\n",
    "    if not data[keys].notna().all(axis=1).all():\n",
    "        raise ValueError(f\"{table} dataframe keys are missing\")\n",
    "    if not data.value_counts(keys).eq(1).all():\n",
    "        if duplicate_key_err == 'raise':\n",
    "            raise KeyError(f\"{table} keys are duplicated\")\n",
    "        else:\n",
    "            print(f\"WARN: dupliated keys will be removed from {table}\")\n",
    "            data = data.drop_duplicates(subset=keys, keep=False)\n",
    "\n",
    "    # Sort product product registry by DIVISION,PRODUCT and reset index\n",
    "    data = data.sort_values(keys).reset_index(drop=True)\n",
    "\n",
    "    data = data.rename(columns=name_conversion)\n",
    "\n",
    "    if \"FILTER\" in params:\n",
    "        if table in params[\"FILTER\"]:\n",
    "            for column, values in params[\"FILTER\"].get(table).to_dict().items():\n",
    "                column_name = params[\"FEATURES\"].get(column)\n",
    "                data = data.loc[data[column_name].isin(values)]\n",
    "\n",
    "    return data"
   ]
  },
  {
   "cell_type": "code",
   "execution_count": 4,
   "metadata": {},
   "outputs": [],
   "source": [
    "params = LazySettings(settings_files=[config_file])\n",
    "params = params[config_mode]"
   ]
  },
  {
   "cell_type": "code",
   "execution_count": 5,
   "metadata": {},
   "outputs": [
    {
     "name": "stdout",
     "output_type": "stream",
     "text": [
      "WARN: dupliated keys will be removed from VOTES_ITA\n"
     ]
    }
   ],
   "source": [
    "players = data_ingestion_basics(params, \"PLAYERS\")\n",
    "votes_ita = data_ingestion_basics(params, \"VOTES_ITA\", duplicate_key_err='drop')\n",
    "\n",
    "players['date_of_birth'] = pd.to_datetime(players['date_of_birth'], errors='coerce')\n",
    "\n"
   ]
  },
  {
   "cell_type": "code",
   "execution_count": 6,
   "metadata": {},
   "outputs": [],
   "source": [
    "def ngrams(string, n=3):\n",
    "    string = re.sub(r'[,-./]|\\sBD',r'', string)\n",
    "    ngrams = zip(*[string[i:] for i in range(n)])\n",
    "    return [''.join(ngram) for ngram in ngrams]"
   ]
  },
  {
   "cell_type": "code",
   "execution_count": 7,
   "metadata": {},
   "outputs": [],
   "source": [
    "names = pd.concat(\n",
    "    [players[params[\"FEATURES\"][\"NAME\"]], \n",
    "    votes_ita[params[\"FEATURES\"][\"PIANETAFANTA_NAME\"]]],\n",
    "    ignore_index=True\n",
    "    )\n",
    "names = names.str.lower()"
   ]
  },
  {
   "cell_type": "code",
   "execution_count": 129,
   "metadata": {},
   "outputs": [],
   "source": [
    "\n",
    "# After having each words split (token or  lemmas (n-gram generated items) ) into a vector and\n",
    "# Scikit-learn’s  Tfidfvectorizer aim to do the same thing, which is to convert a collection of raw documents to a matrix of TF-IDF features. \n",
    "# Generate the matrix of TF-IDF (Term Frequency-Inverse Document frequency)values for each\n",
    "#vectorizer = TfidfVectorizer(min_df=1, analyzer=ngrams)\n",
    "vectorizer = TfidfVectorizer(min_df=1, analyzer='word')\n",
    "vectorizer = vectorizer.fit(names)\n",
    "\n",
    "tm_name_club = players[params[\"FEATURES\"][\"PRETTY_NAME\"]] + \" \" + players[params[\"FEATURES\"][\"CLUB\"]] non va bene id devi mettere nome\n",
    "tm_name_club = tm_name_club.str.lower()\n",
    "pf_names_club = votes_ita[params[\"FEATURES\"][\"PIANETAFANTA_NAME\"]] + \" \" + votes_ita[params[\"FEATURES\"][\"PIANETAFANTA_TEAM\"]]\n",
    "pf_names_club = pf_names_club.str.lower()\n",
    "names = pd.concat(\n",
    "    [tm_name_club, pf_names_club],\n",
    "    ignore_index=True\n",
    "    )\n",
    "    \n",
    "tm_names = vectorizer.transform(tm_name_club) \n",
    "test_names = vectorizer.transform([\"ronaldo\", \"mancini\"]) \n",
    "pf_names = vectorizer.transform(pf_names_club)"
   ]
  },
  {
   "cell_type": "code",
   "execution_count": 145,
   "metadata": {},
   "outputs": [
    {
     "data": {
      "text/plain": [
       "0               miroslav klose 398\n",
       "1                      xandao 2700\n",
       "2                  wes morgan 1003\n",
       "3              thomas azevedo 2727\n",
       "4        cristiano figueiredo 1085\n",
       "                   ...            \n",
       "22616              marc bartra 150\n",
       "22617        simone benedetti 1390\n",
       "22618              tano bonnin 331\n",
       "22619              gijs jasper 202\n",
       "22620           marko scepovic 126\n",
       "Length: 22621, dtype: string"
      ]
     },
     "execution_count": 145,
     "metadata": {},
     "output_type": "execute_result"
    }
   ],
   "source": [
    "tm_name_club"
   ]
  },
  {
   "cell_type": "code",
   "execution_count": 135,
   "metadata": {},
   "outputs": [
    {
     "data": {
      "text/plain": [
       "season                        2\n",
       "pt_name            ABBATE Matte\n",
       "pt_team                piacenza\n",
       "pt_role                       D\n",
       "played_matches                6\n",
       "started_matches               6\n",
       "quotation                   3.2\n",
       "vote_gazzetta              5.83\n",
       "vote_corriere               0.0\n",
       "vote_tuttosport             0.0\n",
       "vote_average               5.83\n",
       "goals                         0\n",
       "yellow_cards                  0\n",
       "red_cards                     0\n",
       "assists                       0\n",
       "Name: 0, dtype: object"
      ]
     },
     "execution_count": 135,
     "metadata": {},
     "output_type": "execute_result"
    }
   ],
   "source": [
    "votes_ita.iloc[0]"
   ]
  },
  {
   "cell_type": "code",
   "execution_count": 136,
   "metadata": {},
   "outputs": [],
   "source": [
    "cosine_similarities = linear_kernel(pf_names, tm_names)"
   ]
  },
  {
   "cell_type": "code",
   "execution_count": 137,
   "metadata": {},
   "outputs": [
    {
     "data": {
      "text/plain": [
       "(10650, 22621)"
      ]
     },
     "execution_count": 137,
     "metadata": {},
     "output_type": "execute_result"
    }
   ],
   "source": [
    "cosine_similarities.shape"
   ]
  },
  {
   "cell_type": "code",
   "execution_count": 138,
   "metadata": {},
   "outputs": [],
   "source": [
    "# Find the top 5 related documents\n",
    "related_docs_indices = cosine_similarities.argsort()[1,-5:-1]"
   ]
  },
  {
   "cell_type": "code",
   "execution_count": 141,
   "metadata": {},
   "outputs": [
    {
     "data": {
      "text/plain": [
       "(4,)"
      ]
     },
     "execution_count": 141,
     "metadata": {},
     "output_type": "execute_result"
    }
   ],
   "source": [
    "related_docs_indices.shape"
   ]
  },
  {
   "cell_type": "code",
   "execution_count": 144,
   "metadata": {},
   "outputs": [
    {
     "data": {
      "text/plain": [
       "15819    Milan Mitrovic\n",
       "4467     Milan Skriniar\n",
       "13129      Milan Badelj\n",
       "20163       Guido Milan\n",
       "Name: pretty_name, dtype: string"
      ]
     },
     "execution_count": 144,
     "metadata": {},
     "output_type": "execute_result"
    }
   ],
   "source": [
    "players.iloc[related_docs_indices[:]]['pretty_name']"
   ]
  },
  {
   "cell_type": "code",
   "execution_count": null,
   "metadata": {},
   "outputs": [],
   "source": []
  }
 ],
 "metadata": {
  "interpreter": {
   "hash": "7954512d69f46d5250bf9304f32c886eecc79deaa42271adec6a58e91c41ee7f"
  },
  "kernelspec": {
   "display_name": "Python 3.9.12 ('fantasai')",
   "language": "python",
   "name": "python3"
  },
  "language_info": {
   "codemirror_mode": {
    "name": "ipython",
    "version": 3
   },
   "file_extension": ".py",
   "mimetype": "text/x-python",
   "name": "python",
   "nbconvert_exporter": "python",
   "pygments_lexer": "ipython3",
   "version": "3.9.12"
  },
  "orig_nbformat": 4
 },
 "nbformat": 4,
 "nbformat_minor": 2
}
